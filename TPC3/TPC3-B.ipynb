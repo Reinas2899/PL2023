{
 "cells": [
  {
   "cell_type": "code",
   "execution_count": 4,
   "id": "6a9c4e1b",
   "metadata": {},
   "outputs": [
    {
     "name": "stdout",
     "output_type": "stream",
     "text": [
      "Século XVI:\n",
      "Nomes: \n",
      "Apelidos: \n",
      "Século XVII:\n",
      "Nomes: Manuel (620x), Joao (614x), Antonio (508x), Francisco (435x), Domingos (289x)\n",
      "Apelidos: Silva (180x), Pereira (170x), Costa (150x), Araujo (146x), Carvalho (110x)\n",
      "Século XVIII:\n",
      "Nomes: Manuel (3904x), Joao (3018x), Antonio (2875x), Jose (2551x), Francisco (2098x)\n",
      "Apelidos: Pereira (982x), Silva (910x), Costa (792x), Carvalho (731x), Araujo (674x)\n",
      "Século XIX:\n",
      "Nomes: Jose (2088x), Antonio (1828x), Manuel (1498x), Joao (1252x), Francisco (847x)\n",
      "Apelidos: Pereira (431x), Silva (426x), Costa (348x), Sousa (303x), Araujo (264x)\n",
      "Século XX:\n",
      "Nomes: Antonio (91x), Jose (76x), Manuel (76x), Joao (34x), Joaquim (17x)\n",
      "Apelidos: Silva (25x), Costa (19x), Oliveira (16x), Pereira (14x), Ferreira (11x)\n",
      "Século XXI:\n",
      "Nomes: \n",
      "Apelidos: \n"
     ]
    }
   ],
   "source": [
    "import re\n",
    "\n",
    "# Abre o arquivo e lê as linhas\n",
    "with open('processos.txt', 'r') as file:\n",
    "    lines = file.readlines()\n",
    "\n",
    "# Cria dicionários para cada século\n",
    "nomes_por_seculo = {'XVI': {}, 'XVII': {}, 'XVIII': {}, 'XIX': {}, 'XX': {}, 'XXI': {}}\n",
    "apelidos_por_seculo = {'XVI': {}, 'XVII': {}, 'XVIII': {}, 'XIX': {}, 'XX': {}, 'XXI': {}}\n",
    "\n",
    "# Percorre o arquivo e adiciona as ocorrências de nomes e apelidos aos dicionários correspondentes\n",
    "for line in lines:\n",
    "    if '::' in line:\n",
    "        campos = line.strip().split('::')\n",
    "        ano = int(re.search(r'\\d{4}', campos[1]).group())\n",
    "        nome_completo = campos[2]\n",
    "        partes_nome = nome_completo.split()\n",
    "        nome = partes_nome[0]\n",
    "        apelido = partes_nome[-1]\n",
    "        seculo = ''\n",
    "\n",
    "    if ano >= 1501 and ano <= 1600:\n",
    "        seculo = 'XVI'\n",
    "    elif ano >= 1601 and ano <= 1700:\n",
    "        seculo = 'XVII'\n",
    "    elif ano >= 1701 and ano <= 1800:\n",
    "        seculo = 'XVIII'\n",
    "    elif ano >= 1801 and ano <= 1900:\n",
    "        seculo = 'XIX'\n",
    "    elif ano >= 1901 and ano <= 2000:\n",
    "        seculo = 'XX'\n",
    "    elif ano >= 2001 and ano <= 2100:\n",
    "        seculo = 'XXI'\n",
    "\n",
    "    nomes_por_seculo[seculo][nome] = nomes_por_seculo[seculo].get(nome, 0) + 1\n",
    "    apelidos_por_seculo[seculo][apelido] = apelidos_por_seculo[seculo].get(apelido, 0) + 1\n",
    "\n",
    "# Seleciona os 5 nomes e apelidos mais frequentes em cada século\n",
    "for seculo in nomes_por_seculo:\n",
    "    nomes = nomes_por_seculo[seculo]\n",
    "    apelidos = apelidos_por_seculo[seculo]\n",
    "    nomes_ordenados = sorted(nomes.items(), key=lambda x: x[1], reverse=True)[:5]\n",
    "    apelidos_ordenados = sorted(apelidos.items(), key=lambda x: x[1], reverse=True)[:5]\n",
    "    print(f'Século {seculo}:')\n",
    "    print(f'Nomes: {\", \".join([f\"{nome} ({frequencia}x)\" for nome, frequencia in nomes_ordenados])}')\n",
    "    print(f'Apelidos: {\", \".join([f\"{apelido} ({frequencia}x)\" for apelido, frequencia in apelidos_ordenados])}')"
   ]
  },
  {
   "cell_type": "code",
   "execution_count": null,
   "id": "fec0d99c",
   "metadata": {},
   "outputs": [],
   "source": []
  }
 ],
 "metadata": {
  "kernelspec": {
   "display_name": "Python 3 (ipykernel)",
   "language": "python",
   "name": "python3"
  },
  "language_info": {
   "codemirror_mode": {
    "name": "ipython",
    "version": 3
   },
   "file_extension": ".py",
   "mimetype": "text/x-python",
   "name": "python",
   "nbconvert_exporter": "python",
   "pygments_lexer": "ipython3",
   "version": "3.9.13"
  }
 },
 "nbformat": 4,
 "nbformat_minor": 5
}
