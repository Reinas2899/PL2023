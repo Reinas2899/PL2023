{
 "cells": [
  {
   "cell_type": "code",
   "execution_count": 2,
   "id": "eafc9323",
   "metadata": {},
   "outputs": [
    {
     "name": "stdout",
     "output_type": "stream",
     "text": [
      "Irmao: 9650\n",
      "Tio Paterno: 1295\n",
      "Sobrinho Paterno: 876\n",
      "Sobrinho Materno: 729\n",
      "Tio Materno: 687\n"
     ]
    }
   ],
   "source": [
    "import re\n",
    "with open('processos.txt', 'r') as f:\n",
    "    lines = f.readlines()\n",
    "    relacoes = {}\n",
    "    for line in lines:\n",
    "        if '::' in line:\n",
    "            # Extrai as relações usando regex\",\n",
    "            match = re.search(r',([^,.]+).', line)\n",
    "            if match:\n",
    "                relacao = match.group(1).strip()\n",
    "\n",
    "                # Incrementa a contagem da relação encontrada\"\n",
    "                if relacao in relacoes:\n",
    "                    relacoes[relacao] += 1\n",
    "                else:\n",
    "                    relacoes[relacao] = 1\n",
    "    \n",
    "# Ordena as relações por frequência e imprime as mais comuns\"\n",
    "for relacao, freq in sorted(relacoes.items(), key=lambda item: item[1], reverse=True)[:5]:\n",
    "    print(f'{relacao}: {freq}')"
   ]
  },
  {
   "cell_type": "code",
   "execution_count": null,
   "id": "3e8e1a15",
   "metadata": {},
   "outputs": [],
   "source": []
  }
 ],
 "metadata": {
  "kernelspec": {
   "display_name": "Python 3 (ipykernel)",
   "language": "python",
   "name": "python3"
  },
  "language_info": {
   "codemirror_mode": {
    "name": "ipython",
    "version": 3
   },
   "file_extension": ".py",
   "mimetype": "text/x-python",
   "name": "python",
   "nbconvert_exporter": "python",
   "pygments_lexer": "ipython3",
   "version": "3.9.13"
  }
 },
 "nbformat": 4,
 "nbformat_minor": 5
}
