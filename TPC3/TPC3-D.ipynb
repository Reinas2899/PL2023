{
 "cells": [
  {
   "cell_type": "code",
   "execution_count": 7,
   "id": "3e9dd765",
   "metadata": {},
   "outputs": [],
   "source": [
    "import re\n",
    "import json\n",
    "\n",
    "# Abre o arquivo e lê as linhas\n",
    "with open('processos.txt', 'r') as f:\n",
    "    lines = f.readlines()\n",
    "\n",
    "# Lista para armazenar os dados dos 20 primeiros registos\n",
    "data = []\n",
    "linha = 0\n",
    "\n",
    "# Loop através das linhas do arquivo\n",
    "for line in lines:\n",
    "    if '::' in line:\n",
    "        # Extrai as informações do registro usando regex\n",
    "        match = re.match(r'^(\\d+)::(\\d{4}-\\d{2}-\\d{2})::(.+?)::(.+?)::(.+?)::(.+?)$', line)\n",
    "        if match:\n",
    "            # Verifica se já lemos 20 registros\n",
    "            if linha >= 20:\n",
    "                break\n",
    "\n",
    "            # Adiciona os dados do registro na lista\n",
    "            registo = {\n",
    "                'pasta': match.group(1),\n",
    "                'data': match.group(2),\n",
    "                'nome': match.group(3),\n",
    "                'pai': match.group(4),\n",
    "                'mae': match.group(5),\n",
    "                'observacoes': match.group(6),\n",
    "            }\n",
    "            data.append(registo)\n",
    "            linha += 1\n",
    "\n",
    "# Cria um novo arquivo JSON e grava os dados\n",
    "with open('processos.json', 'w') as f:\n",
    "    json.dump(data, f, indent=4)"
   ]
  },
  {
   "cell_type": "code",
   "execution_count": null,
   "id": "33b48c3e",
   "metadata": {},
   "outputs": [],
   "source": []
  }
 ],
 "metadata": {
  "kernelspec": {
   "display_name": "Python 3 (ipykernel)",
   "language": "python",
   "name": "python3"
  },
  "language_info": {
   "codemirror_mode": {
    "name": "ipython",
    "version": 3
   },
   "file_extension": ".py",
   "mimetype": "text/x-python",
   "name": "python",
   "nbconvert_exporter": "python",
   "pygments_lexer": "ipython3",
   "version": "3.9.13"
  }
 },
 "nbformat": 4,
 "nbformat_minor": 5
}
